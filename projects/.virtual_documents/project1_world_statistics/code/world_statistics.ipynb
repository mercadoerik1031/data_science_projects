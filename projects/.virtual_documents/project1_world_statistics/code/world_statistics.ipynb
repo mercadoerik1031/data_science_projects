























import numpy as np





def calc_mean(numbers: list):
    """
    This function calculates the mean of a list of numbers

    Args:
    numbers: list of numbers

    Return:
    float: mean of numbers in the list
    """
    return sum(numbers) / len(numbers)

# Sanity check
np.random.seed(31)
random_list = [np.random.randint(1, 101) for _ in range(10)]
assert calc_mean(random_list) == np.mean(random_list)





def calc_std(numbers: list):
    """
    This function calculates the standard deviation of the numbers in the list

    Args:
    numbers: list of numbers
    
    Returns:
    float: standard deviation of the numbers in the list
    """
    mean = calc_mean(numbers)
    return (sum([(x - mean)**2 for x in numbers])/len(numbers))**0.5

# Sanity check

np.random.seed(31)
random_list = [np.random.randint(1, 101) for _ in range(10)]
assert calc_std(random_list) == np.std(random_list)





def string_to_float(string: str):
    """
    This fuction converts a string to an integer

    ex: 45M -> 45_000_000

    Args:
    string: string to be converted

    Returns:
    float: float values of the string
    """

    if isinstance(string, (int, float)):
        return float(string)

    multiplier = string[-1]

    if multiplier == "k":
        return float(string[:-1])*1_000
    elif multiplier == "M":
        return float(string[:-1])*1_000_000
    elif multiplier == "B":
        return float(string[:-1])*1_000_000_000
    
    return float(string)

# Sanity check
assert string_to_float("45M") == 45_000_000
assert string_to_float("1k") == 1_000
assert string_to_float("2.5B") == 2_500_000_000 











import pandas as pd





gni_pth = "~/Documents/generalassembly/projects/project_1/data/gni_per_cap_atlas_method_con2021.csv"
life_expectancy_pth = "~/Documents/generalassembly/projects/project_1/data/life_expectancy.csv"
population_pth = "~/Documents/generalassembly/projects/project_1/data/population.csv"


gni = pd.read_csv(gni_pth)
life_expectancy = pd.read_csv(life_expectancy_pth)
population = pd.read_csv(population_pth)














gni.head()





cols = [gni.columns[0]] + [col for col in gni.columns[1:] if int(col) >= 1924 and int(col) <= 2024]
gni = gni[cols]

gni.head()





gni.dtypes.value_counts()





for col in gni.columns[1:]:
    gni[col] = gni[col].apply(string_to_float)

gni.dtypes.value_counts()








print(f"gni shape: {gni.shape}")
print(f"gni missing values: {gni.isnull().sum().sum()}")





gni.loc[gni.isnull().any(axis=1)]





gni.dropna(inplace=True)

print(f"Total NaN: {gni.isna().sum().sum()}")





rename_dict = {col: f"{col}_gni" for col in gni.columns[1:]}

gni.rename(columns=rename_dict, inplace=True)
print(f"Shape: {gni.shape}")
gni.columns








life_expectancy.head()





cols = [gni.columns[0]] + [col for col in life_expectancy.columns[1:] if int(col) >= 1924 and int(col) <= 2024]

life_expectancy = life_expectancy[cols]

life_expectancy.head()





life_expectancy.dtypes.value_counts()








print(f"life expectancy shape: {life_expectancy.shape}")
print(f"life expectancy missing values: {life_expectancy.isnull().sum().sum()}")





life_expectancy.loc[life_expectancy.isna().any(axis=1)]





life_expectancy.dropna(inplace=True)

print(f"Total NaN: {life_expectancy.isna().sum().sum()}")





rename_dict = {col: f"{col}_life_expectancy" for col in life_expectancy.columns[1:]}

life_expectancy.rename(columns=rename_dict, inplace=True)
print(f"Shape: {life_expectancy.shape}")
life_expectancy.columns








population.head()





cols = [population.columns[0]] + [col for col in population.columns[1:] if int(col) >= 1924 and int(col) <= 2024]
population = population[cols]

population.head()





population.dtypes.value_counts()





for col in population.columns[1:]:
    population[col] = population[col].apply(string_to_float)

population.dtypes.value_counts()





print(f"population shape: {population.shape}")
print(f"population missing values: {population.isnull().sum().sum()}")





population.loc[population.isna().any(axis=1)]





population.dropna(inplace=True)

population.isna().sum().sum()





rename_dict = {col: f"{col}_population" for col in population.columns[1:]}

population.rename(columns=rename_dict, inplace=True)
print(f"Shape: {population.shape}")
population.columns








print(f"gni.shape: {gni.shape}")
print(f"life_expectancy.shape: {life_expectancy.shape}")
print(f"population.shape: {population.shape}")





countries = set(gni["country"]) & set(life_expectancy["country"]) & set(population["country"])
print(f"number of countries in all datasets: {len(countries)}")

gni = gni.loc[gni["country"].isin(countries)]
life_expectancy = life_expectancy.loc[life_expectancy["country"].isin(countries)]
population = population.loc[population["country"].isin(countries)]

# Print the shape of the filtered dataframes as a sanity check
print(f"Filtered GNI dataframe shape: {gni.shape}")
print(f"Filtered Life Expectancy dataframe shape: {life_expectancy.shape}")
print(f"Filtered Population dataframe shape: {population.shape}")





first_merge = pd.merge(gni, life_expectancy, on="country", how="outer")
data = pd.merge(first_merge, population, on="country", how="outer")

data.head()





print(f"data missing values: {data.isna().sum().sum()}")





# pip install pycountry-convert





import pycountry_convert as pc





def country_to_continent(country_name):
    try:
        # Get country alpha-2 code
        country_code = pc.country_name_to_country_alpha2(country_name)
        # Get continent code from country alpha-2 code
        continent_code = pc.country_alpha2_to_continent_code(country_code)
        # Convert continent code to continent name
        continent_name = pc.convert_continent_code_to_continent_name(continent_code)
        return continent_name
    except:
        return None  # Return None or a default value if country is not found

# Sanity Check
assert country_to_continent("Spain") == "Europe"
assert country_to_continent("USA") == "North America"
assert country_to_continent("Egypt") == "Africa"





data["continent"] = data["country"].apply(country_to_continent)

# Move the continent column next to the country column
data = data[['country', 'continent'] + [col for col in data.columns if col not in ['country', 'continent']]]





data["continent"].isna().sum().sum()





data.loc[data["continent"].isna()]["country"]





data.loc[data["country"] == "Cote d'Ivoire", "continent"] = "Africa"
data.loc[data["country"] == "Congo, Dem. Rep.", "continent"] = "Africa"
data.loc[data["country"] == "Congo, Rep.", "continent"] = "Africa"
data.loc[data["country"] == "Micronesia, Fed. Sts.", "continent"] = "Oceania"
data.loc[data["country"] == "Hong Kong, China", "continent"] = "Asia"
data.loc[data["country"] == "Lao", "continent"] = "Asia"
data.loc[data["country"] == "Timor-Leste", "continent"] = "Asia"
data.loc[data["country"] == "St. Vincent and the Grenadines", "continent"] = "North America"





print(f"data.shape: {data.shape}")
print(f"data missing values: {data.isna().sum().sum()}")








data.to_csv("/Users/erikmercado/Documents/generalassembly/projects/project_1/data/merged_data.csv", index=False)





import matplotlib.pyplot as plt
import seaborn as sns





merged_data_pth = "/Users/erikmercado/Documents/generalassembly/projects/project_1/data/merged_data.csv"
merged_data = pd.read_csv(merged_data_pth)
merged_data.head()





merged_data.describe()





sd = {year: calc_std(merged_data[year]) for year in data.columns[2:]}

# sanity check: Ensure the dict has the same shape
assert len(sd) == data.shape[1] - 2 # subtract 2 to account for the "country" and "continent" columns














cols_1924 = [col for col in data.columns if col.startswith("1924")]
cols_1974 = [col for col in data.columns if col.startswith("1974")]
cols_2024 = [col for col in data.columns if col.startswith("2024")]


# Calculating the correlation matrices for 2021 and 1965 data
merged_corr_1924 = data[cols_1924].corr()
merged_corr_1974 = data[cols_1974].corr()
merged_corr_2024 = data[cols_2024].corr()

# Plotting the correlation matrices side by side
fig, ax = plt.subplots(1, 3, figsize=(18, 8))

# Plot for 1965
sns.heatmap(merged_corr_1924, annot=True, cmap="coolwarm", fmt=".2f", linewidths=0.5, ax=ax[0])
ax[0].set_title("1924 Correlation Matrix")

# Plot for 1991
sns.heatmap(merged_corr_1974, annot=True, cmap="coolwarm", fmt=".2f", linewidths=0.5, ax=ax[1])
ax[1].set_title("1974 Correlation Matrix")

# Plot for 2021
sns.heatmap(merged_corr_2024, annot=True, cmap="coolwarm", fmt=".2f", linewidths=0.5, ax=ax[2])
ax[2].set_title("2024 Correlation Matrix")

plt.tight_layout()
plt.show()








selected_years = [1924, 1974, 2024]

population_sums = {}

for year in selected_years:
    population_sums[f'{year}_total_population'] = merged_data.groupby('continent')[f'{year}_population'].sum()

# Convert the dictionary to a DataFrame and reset index
population_sums_df = pd.DataFrame(population_sums).reset_index()

# Melt the DataFrame plotting
population_sums_melted = population_sums_df.melt(id_vars='continent', var_name='Year', value_name='Total Population')


population_growth_rates = {}

for i in range(len(selected_years) - 1):
    start_year, end_year = selected_years[i], selected_years[i + 1]
    
    start_population = population_sums[f'{start_year}_total_population']
    end_population = population_sums[f'{end_year}_total_population']
    
    growth_rate = ((end_population - start_population) / start_population) * 100
    growth_rate_column = f'{start_year}_to_{end_year}_growth_rate'
    
    # For each continent, calculate the growth rate and add it to the population_growth_rates dictionary
    for continent in population_sums_df['continent']:
        population_growth_rates.setdefault(growth_rate_column, []).append(growth_rate[continent])

# Vonvert the growth rates to a DataFrame
population_growth_df = pd.DataFrame(population_growth_rates)
population_growth_df['continent'] = population_sums_df['continent']

# Melt the population_growth_df for plotting
population_growth_melted = population_growth_df.melt(id_vars='continent', var_name='Years', value_name='Population Growth Rate')


fig, (ax1, ax2) = plt.subplots(1, 2, figsize=(20, 7))

# Population Growth Rate plot
barplot1 = sns.barplot(ax=ax1, x='continent', y='Population Growth Rate', hue='Years', data=population_growth_melted)
ax1.set_title('Population Growth Rate by Continent for Selected Years')
ax1.set_xlabel('Continent')
ax1.set_ylabel('Population Growth Rate (%)')

# Total Population plot
barplot2 = sns.barplot(ax=ax2, x='continent', y='Total Population', hue='Year', data=population_sums_melted)
ax2.set_yscale('log')
ax2.set_title('Logarithmic Scale: Total Population by Continent for Selected Years')
ax2.set_xlabel('Continent')
ax2.set_ylabel('Total Population (log scale)')

# Annotate bars in the first subplot (ax1)
for p in barplot1.patches:
    height = p.get_height()  # Get the height of the bar
    if height > 0:  # Check if the height is greater than 0
        ax1.annotate(f'{height:.1f}%',  # Change to percentage format without scientific notation
                     (p.get_x() + p.get_width() / 2, height), 
                     ha='center', va='bottom',
                     fontsize=8, xytext=(0, 5), 
                     textcoords='offset points')

# Annotate bars in the second subplot (ax2)
for p in barplot2.patches:
    height = p.get_height()  # Get the height of the bar
    ax2.annotate(f'{height:.1e}', 
                 (p.get_x() + p.get_width() / 2, height), 
                 ha='center', va='bottom',
                 fontsize=7, xytext=(0, 5), 
                 textcoords='offset points')

plt.tight_layout()
plt.show()









years = [1924, 1974, 2024]

# For life expectancy
life_expectancy_sums = {}
for year in years:
    life_expectancy_sums[f'{year}_life_expectancy'] = merged_data.groupby('continent')[f'{year}_life_expectancy'].mean()

life_expectancy_df = pd.DataFrame(life_expectancy_sums).reset_index()
life_expectancy_melted = life_expectancy_df.melt(id_vars='continent', var_name='Year', value_name='Average Life Expectancy')


life_expectancy_melted['Year'] = life_expectancy_melted['Year'].str.extract('(\d+)').astype(int)
population_sums_melted['Year'] = population_sums_melted['Year'].str.extract('(\d+)').astype(int)

# Merge the DataFrames
le_pop_data = pd.merge(life_expectancy_melted, population_sums_melted, on=['continent', 'Year'])


# Plotting
plt.figure(figsize=(10, 6))

# Use a different color for each continent
continents = le_pop_data['continent'].unique()
colors = plt.cm.tab10(range(len(continents)))
continent_colors = {continent: color for continent, color in zip(continents, colors)}

# Define a mapping for years to marker shapes
marker_shapes = ['o', 's', '^']  # Circle, Square, Triangle
years = le_pop_data['Year'].unique()
year_marker = {year: marker_shapes[i % len(marker_shapes)] for i, year in enumerate(sorted(years))}

for continent in continents:
    subset = le_pop_data[le_pop_data['continent'] == continent]
    for year in years:
        year_subset = subset[subset['Year'] == year]
        if not year_subset.empty:
            plt.scatter(year_subset['Average Life Expectancy'], year_subset['Total Population'], 
                        s=100, color=continent_colors[continent], marker=year_marker[year], 
                        label=f"{continent} {year}" if year == years[0] else "")

plt.title('Life Expectancy vs. Population Size by Continent and Year')
plt.xlabel('Average Life Expectancy')
plt.ylabel('Total Population')
plt.legend(title="Continent and First Year", bbox_to_anchor=(1.05, 1), loc='upper left')
plt.grid(True)
plt.show()











def normalize_column(column):
    """
    Normalize a pandas Series by scaling the values to a range of 0 to 1.

    Parameters:
    column (pandas.Series): A pandas Series object containing numerical values.

    Returns:
    pandas.Series: A pandas Series with the normalized values.
    """
    return (column - column.min()) / (column.max() - column.min())


years = range(1924, 2025)

hdi_columns = {}

# Loop through each year, normalize, calculate the simplified HDI
for year in years:
    # Normalize GNI and life expectancy for the current year
    gni_normalized = normalize_column(merged_data[f'{year}_gni'])
    life_expectancy_normalized = normalize_column(merged_data[f'{year}_life_expectancy'])
    
    # Calculate the simplified HDI for the current year and store in the dictionary
    hdi_columns[f'{year}_hdi'] = (gni_normalized + life_expectancy_normalized) / 2

# Convert the dictionary to a DataFrame
hdi_df = pd.DataFrame(hdi_columns)

# concatenate hdi_df to merged_data
hdi_df = pd.concat([merged_data, hdi_df], axis=1)

# initialize hdi_data as an empty DataFrame
hdi_data = pd.DataFrame()

# Loop through each year again to aggregate the simplified HDI by continent
for year in years:
    yearly_data = hdi_df.groupby('continent')[f'{year}_hdi'].mean().reset_index()
    yearly_data.rename(columns={f'{year}_hdi': 'hdi'}, inplace=True)
    yearly_data['year'] = year
    hdi_data = pd.concat([hdi_data, yearly_data], ignore_index=True)

# Pivot the hdi_data DataFrame for easier plotting
plot_data_pivoted = hdi_data.pivot(index='year', columns='continent', values='hdi')

# Plotting
plt.figure(figsize=(12, 8))
for continent in plot_data_pivoted.columns:
    plt.plot(plot_data_pivoted.index, plot_data_pivoted[continent], label=continent)

plt.title('Simplified HDI Over Time by Continent')
plt.xlabel('Year')
plt.ylabel('Simplified HDI')
plt.legend()
plt.grid(True)
plt.show()












from matplotlib.lines import Line2D


selected_years = [1924, 1974, 2024]

# Prepare population data
population_sums = {}
for year in selected_years:
    population_sums[f'{year}_population'] = merged_data.groupby('continent')[f'{year}_population'].sum()

# Convert to DataFrame and reset index
population_sums_df = pd.DataFrame(population_sums).reset_index()
population_sums_melted = population_sums_df.melt(id_vars='continent', var_name='Year', value_name='Total Population')
population_sums_melted['Year'] = population_sums_melted['Year'].str.extract('(\d+)').astype(int)

# Prepare GNI per capita data
gni_per_cap = {}
for year in selected_years:
    gni_per_cap[f'{year}_gni'] = merged_data.groupby('continent')[f'{year}_gni'].median()

# Convert to DataFrame and reset index
gni_per_cap_df = pd.DataFrame(gni_per_cap).reset_index()
gni_per_cap_melted = gni_per_cap_df.melt(id_vars='continent', var_name='Year', value_name='GNI per Capita')
gni_per_cap_melted['Year'] = gni_per_cap_melted['Year'].str.extract('(\d+)').astype(int)

# Prepare life expectancy data
life_expectancy = {}
for year in selected_years:
    life_expectancy[f'{year}_life_expectancy'] = merged_data.groupby('continent')[f'{year}_life_expectancy'].mean()

# Convert to DataFrame and reset index
life_expectancy_df = pd.DataFrame(life_expectancy).reset_index()
life_expectancy_melted = life_expectancy_df.melt(id_vars='continent', var_name='Year', value_name='Average Life Expectancy')
life_expectancy_melted['Year'] = life_expectancy_melted['Year'].str.extract('(\d+)').astype(int)





# Merge all datasets
gni_pop_life = pd.merge(population_sums_melted, gni_per_cap_melted, on=['continent', 'Year'])
gni_pop_life = pd.merge(gni_pop_life, life_expectancy_melted, on=['continent', 'Year'])


# Use a different color for each continent
continents = gni_pop_life['continent'].unique()
colors = plt.cm.tab10(range(len(continents)))
continent_colors = {continent: color for continent, color in zip(continents, colors)}

# Create a figure and adjust figure size
plt.figure(figsize=(15, 10))

# Create a list for custom legend handles
legend_handles = []

for continent in continents:
    subset = gni_pop_life[gni_pop_life['continent'] == continent]
    # Use the population as the size of the bubble
    bubble_sizes = subset['Total Population'] / 1e6  # Scale population for bubble size
    scatter = plt.scatter(subset['GNI per Capita'], subset['Average Life Expectancy'], 
                          s=bubble_sizes, color=continent_colors[continent], alpha=0.6, 
                          edgecolors="w", linewidth=0.5)
    
    # Add custom legend handle
    legend_handles.append(Line2D([0], [0], marker='o', color='w', markerfacecolor=continent_colors[continent],
                                 markersize=10, label=continent))

# Create a custom legend
plt.legend(handles=legend_handles, title="Continent", bbox_to_anchor=(1.05, 1), loc='upper left')

# Set the title and labels
plt.title('GNI Per Capita vs. Average Life Expectancy by Continent')
plt.xlabel('GNI per Capita ($)')
plt.ylabel('Average Life Expectancy (Years)')

# Set the scale for axes
plt.xscale('log')  # Logarithmic scale for GNI per capita
plt.yscale('linear')  # Linear scale for life expectancy

plt.grid(True)
plt.tight_layout()
plt.show()









# selected_years = [year for year in range(1924, 2025)]

# # Prepare population data
# population_sums = {f'{year}_total_population': merged_data.groupby('continent')[f'{year}_population'].sum() for year in selected_years}
# population_sums_df = pd.DataFrame(population_sums).reset_index()
# population_sums_melted = population_sums_df.melt(id_vars='continent', var_name='Year', value_name='Total Population')
# population_sums_melted['Year'] = population_sums_melted['Year'].str.extract('(\d+)').astype(int)

# # Prepare GNI per capita data
# gni_per_cap = {f'{year}_gni_per_cap': merged_data.groupby('continent')[f'{year}_gni'].median() for year in selected_years}
# gni_per_cap_df = pd.DataFrame(gni_per_cap).reset_index()
# gni_per_cap_melted = gni_per_cap_df.melt(id_vars='continent', var_name='Year', value_name='GNI per cap')
# gni_per_cap_melted['Year'] = gni_per_cap_melted['Year'].str.extract('(\d+)').astype(int)

# # Prepare life expectancy data
# life_expectancy_sums = {f'{year}_life_expectancy': merged_data.groupby('continent')[f'{year}_life_expectancy'].mean() for year in selected_years}
# life_expectancy_df = pd.DataFrame(life_expectancy_sums).reset_index()
# life_expectancy_melted = life_expectancy_df.melt(id_vars='continent', var_name='Year', value_name='Average Life Expectancy')
# life_expectancy_melted['Year'] = life_expectancy_melted['Year'].str.extract('(\d+)').astype(int)

# # Merge datasets
# gni_pop_life = pd.merge(pd.merge(population_sums_melted, gni_per_cap_melted, on=['continent', 'Year']), life_expectancy_melted, on=['continent', 'Year'])

# # Continue with plotting adjustments for life expectancy vs GNI per capita, with population as bubble size
# output_dir = '"/Users/erikmercado/Documents/generalassembly/projects/project_1/images"'
# os.makedirs(output_dir, exist_ok=True)

# # Adjust the draw_plot_for_year function to plot life expectancy on the y-axis and change bubble sizes based on population
# def draw_plot_for_year(year, x_limits, y_limits):
#     plt.figure(figsize=(15, 10))
#     ax = plt.gca()
    
#     for continent in continents:
#         subset = gni_pop_life[(gni_pop_life['continent'] == continent) & (gni_pop_life['Year'] == year)]
#         bubble_sizes = subset['Total Population'] / 1e6  # Scale as needed
#         plt.scatter(subset['GNI per cap'], subset['Average Life Expectancy'], s=bubble_sizes, color=continent_colors[continent], alpha=0.6, edgecolors="w", linewidth=0.5)
    
#     plt.title(f'GNI Per Capita vs. Life Expectancy by Continent - {year}')
#     plt.xlabel('GNI per Capita ($)')
#     plt.ylabel('Life Expectancy (Years)')
#     plt.xscale('log')
#     plt.yscale('linear')  # Assuming life expectancy is better represented on a linear scale
#     plt.grid(True)
#     plt.legend(handles=legend_handles, title="Continent", bbox_to_anchor=(1.05, 1), loc='upper left')
#     ax.set_xlim(x_limits)
#     ax.set_ylim(y_limits)

#     plt.tight_layout()
#     filename = os.path.join(output_dir, f'plot_{year}.png')
#     plt.savefig(filename)
#     plt.close()
#     return filename


# x_limits = (gni_pop_life['GNI per cap'].min(), gni_pop_life['GNI per cap'].max())
# y_limits = (life_expectancy_melted['Average Life Expectancy'].min(), life_expectancy_melted['Average Life Expectancy'].max())


# filenames = [draw_plot_for_year(year, x_limits, y_limits) for year in years]

# # Compile the individual plots into a GIF
# gif_path = os.path.join(output_dir, 'gni_pop_trend.gif')
# with imageio.get_writer(gif_path, mode='I', duration=2) as writer:
#     for filename in filenames:
#         image = imageio.imread(filename)
#         writer.append_data(image)

# # Optionally remove individual .png files
# for filename in filenames:
#     os.remove(filename)


# from IPython.display import display, Image

# # For a GIF stored locally on your machine
# display(Image(filename='images/gni_pop_trend.gif'))






